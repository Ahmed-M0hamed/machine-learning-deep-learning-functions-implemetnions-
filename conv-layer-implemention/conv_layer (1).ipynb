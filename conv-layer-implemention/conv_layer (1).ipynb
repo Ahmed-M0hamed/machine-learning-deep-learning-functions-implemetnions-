{
  "cells": [
    {
      "cell_type": "code",
      "execution_count": 2,
      "metadata": {
        "id": "64f86a22"
      },
      "outputs": [],
      "source": [
        "import tensorflow as tf \n",
        "import numpy as np \n"
      ],
      "id": "64f86a22"
    },
    {
      "cell_type": "code",
      "execution_count": 11,
      "metadata": {
        "id": "0d9097a9"
      },
      "outputs": [],
      "source": [
        "class conv_layer(tf.keras.layers.Layer):\n",
        "    def __init__(self , units  , kernal_size = 4, activation =None , pad = 0  , strides = 1) : \n",
        "        super(conv_layer,self).__init__()\n",
        "        self.units = units \n",
        "        self.activation = tf.keras.activations.get(activation)\n",
        "        self.padding = pad\n",
        "        self.filter  = kernal_size \n",
        "        self.strides = strides\n",
        "\n",
        "    # we will initalize the weights and biases\n",
        "    def build(self , input_dims): \n",
        "        w_init =  tf.random_normal_initializer()\n",
        "        # we initalize the weights with shape(kernal_size , kernal_size , number of input channels , number of units / new channels)\n",
        "        self.weight = tf.Variable(w_init(shape =(self.filter , self.filter , input_dims[-1] , self.units)), dtype ='float32' , trainable =True)\n",
        "        b_init = tf.zeros_initializer()\n",
        "        self.bias = tf.Variable(b_init(shape = (1,1,1,self.units)) , dtype ='float32' , trainable =True)\n",
        "\n",
        "    # to pad the input     \n",
        "    def zero_pad(self , X, pad):\n",
        "\n",
        "        X_pad = np.pad(X , ((0,0 ) , (pad , pad ) , (pad, pad ) , (0,0)) , mode='constant' , constant_values =(0,0)) \n",
        "        return X_pad\n",
        "\n",
        "    # conv_window to multiply each slice of the image by the kernal weight and add the bais\n",
        "    def conv_window(self, a_slice_prev, W, b):\n",
        "        s = np.multiply(a_slice_prev,W)\n",
        "        Z = np.sum(s)\n",
        "        b = np.squeeze(b)\n",
        "        Z = Z + b\n",
        "        return Z \n",
        "\n",
        "\n",
        "    def fit(self , input):\n",
        "        # we unpack the shape of the input \n",
        "        m, h_prev , w_prev , c_prev = input.shape\n",
        "        pad = self.padding\n",
        "        \n",
        "        # calculate the new dims of the output \n",
        "        n_H = int(((h_prev - self.filter + 2 * pad) / self.strides) + 1)\n",
        "        n_W = int(((w_prev - self.filter + 2 * pad) / self.strides) + 1)\n",
        "        # init the output with zeros \n",
        "        out  = np.zeros((m, n_H, n_W, self.units))\n",
        "\n",
        "        if pad != 0  :\n",
        "             A_prev_pad = self.zero_pad(input, int(pad))\n",
        "        A_prev_pad = input\n",
        "\n",
        "        for i in range(m):  # looping throw the examples              \n",
        "          a_prev_pad = A_prev_pad[i]         \n",
        "          for h in range(n_H):  # looping throw the height dim          \n",
        "\n",
        "              vert_start = self.strides * h  # calculate the vertical steps we will take to take a slice from the image \n",
        "              vert_end = vert_start  + self.filter\n",
        "              for w in range(n_W):       \n",
        "                  \n",
        "                  horiz_start = self.strides * w  # calculate the horizontal steps we will take to take a slice from the image\n",
        "                  horiz_end = horiz_start + self.filter\n",
        "                   \n",
        "                  for c in range(self.units):  # looping throw the channels \n",
        "                      \n",
        "                      a_slice_prev = a_prev_pad[vert_start:vert_end,horiz_start:horiz_end,:] # take the slice which will be multipled by the kernal\n",
        "      \n",
        "                      weights = self.weight[:, :, :, c]\n",
        "                      biases  = self.bias[:, :, :, c]\n",
        "                      out[i, h, w, c] = self.conv_window(a_slice_prev, weights, biases) \n",
        "        return  self.activation(out)  # return the output of the activation "
      ],
      "id": "0d9097a9"
    },
    {
      "cell_type": "code",
      "execution_count": 4,
      "metadata": {
        "id": "0k99uR-FnNOB"
      },
      "outputs": [],
      "source": [
        "# load the mnist to test the layer\n",
        "(train_data , train_labels) , (test_data , test_lables) = tf.keras.datasets.fashion_mnist.load_data() \n",
        "# add new axis to ba able to unpack the dims inside the function \n",
        "train_data = train_data[:,:,: , np.newaxis]\n",
        "train_data = train_data / 255"
      ],
      "id": "0k99uR-FnNOB"
    },
    {
      "cell_type": "code",
      "source": [
        "# just simple model to test the layer\n",
        "model = tf.keras.models.Sequential([\n",
        "          conv_layer(32 , activation='relu') , \n",
        "          tf.keras.layers.Flatten(),\n",
        "          tf.keras.layers.Dense(10 , activation ='softmax')\n",
        "])"
      ],
      "metadata": {
        "id": "_jV8hUlBzjcy"
      },
      "id": "_jV8hUlBzjcy",
      "execution_count": 12,
      "outputs": []
    },
    {
      "cell_type": "code",
      "source": [
        "model.compile(optimizer = 'adam' , loss = 'sparse_categorical_crossentropy' , metrics =['accuracy'])"
      ],
      "metadata": {
        "id": "qdWdcl900dFi"
      },
      "id": "qdWdcl900dFi",
      "execution_count": 15,
      "outputs": []
    },
    {
      "cell_type": "code",
      "source": [
        "model.fit(train_data , train_labels, epochs=10)"
      ],
      "metadata": {
        "id": "SiTlonvTx93t"
      },
      "id": "SiTlonvTx93t",
      "execution_count": null,
      "outputs": []
    },
    {
      "cell_type": "code",
      "source": [
        ""
      ],
      "metadata": {
        "id": "9MXKsAq7-6Vr"
      },
      "id": "9MXKsAq7-6Vr",
      "execution_count": null,
      "outputs": []
    }
  ],
  "metadata": {
    "colab": {
      "name": "conv_layer.ipynb",
      "provenance": []
    },
    "kernelspec": {
      "display_name": "Python 3 (ipykernel)",
      "language": "python",
      "name": "python3"
    },
    "language_info": {
      "codemirror_mode": {
        "name": "ipython",
        "version": 3
      },
      "file_extension": ".py",
      "mimetype": "text/x-python",
      "name": "python",
      "nbconvert_exporter": "python",
      "pygments_lexer": "ipython3",
      "version": "3.9.7"
    }
  },
  "nbformat": 4,
  "nbformat_minor": 5
}