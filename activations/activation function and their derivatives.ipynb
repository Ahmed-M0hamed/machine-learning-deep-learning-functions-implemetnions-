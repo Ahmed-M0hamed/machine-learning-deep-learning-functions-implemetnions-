{
 "cells": [
  {
   "cell_type": "code",
   "execution_count": null,
   "id": "5582272c",
   "metadata": {},
   "outputs": [],
   "source": [
    "class sigmoid : \n",
    "    def forword(self , inputs) : # sigmoid\n",
    "        return 1 / (1+np.exp(-inputs)) \n",
    "    def backword(self , inputs ): # sigmoid derivative\n",
    "         return inputs * (1-inputs)\n"
   ]
  },
  {
   "cell_type": "code",
   "execution_count": null,
   "id": "c4714eec",
   "metadata": {},
   "outputs": [],
   "source": [
    "class relu : \n",
    "    def forword(self ,inputs) : # relu\n",
    "        mask = (inputs > 0 )\n",
    "        return inputs * mask\n",
    "    def backword(self , inputs ): # relu derivative\n",
    "        mask = (inputs > 0)\n",
    "        return inputs * mask"
   ]
  },
  {
   "cell_type": "code",
   "execution_count": null,
   "id": "8d7da222",
   "metadata": {},
   "outputs": [],
   "source": [
    "class tanh : \n",
    "    def forword(self, inputs) : # tanh \n",
    "        return np.tanh(inputs)\n",
    "    def backword(self, inputs ) : # tanh derivative \n",
    "        return 1 - (inputs**2)"
   ]
  }
 ],
 "metadata": {
  "kernelspec": {
   "display_name": "Python 3 (ipykernel)",
   "language": "python",
   "name": "python3"
  },
  "language_info": {
   "codemirror_mode": {
    "name": "ipython",
    "version": 3
   },
   "file_extension": ".py",
   "mimetype": "text/x-python",
   "name": "python",
   "nbconvert_exporter": "python",
   "pygments_lexer": "ipython3",
   "version": "3.9.7"
  }
 },
 "nbformat": 4,
 "nbformat_minor": 5
}
